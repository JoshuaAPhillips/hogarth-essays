{
 "cells": [
  {
   "cell_type": "code",
   "execution_count": 2,
   "metadata": {},
   "outputs": [],
   "source": [
    "import os\n",
    "import csv\n",
    "import re"
   ]
  },
  {
   "cell_type": "code",
   "execution_count": 4,
   "metadata": {},
   "outputs": [],
   "source": [
    "def split_text(text, max_words=250):\n",
    "    words = text.split()\n",
    "    for i in range(0, len(words), max_words):\n",
    "        yield ' '.join(words[i:i + max_words])\n",
    "\n",
    "def process_file(file_path, output_writer, doc_id):\n",
    "    with open(file_path, 'r', encoding='utf-8') as file:\n",
    "        # extract filename\n",
    "        filename = os.path.basename(file_path)\n",
    "        filename_no_ext = os.path.splitext(filename)[0]\n",
    "\n",
    "        # Read the content of the file\n",
    "        content = file.read()\n",
    "        \n",
    "    # Split the content into paragraphs\n",
    "    paragraphs = re.split(r'\\n\\s*\\n', content)\n",
    "    \n",
    "    # Write each paragraph as a separate row (or rows) in the TSV\n",
    "    for i, paragraph in enumerate(paragraphs):\n",
    "        # Remove any newlines within the paragraph\n",
    "        paragraph = paragraph.replace('\\n', ' ').strip()\n",
    "        if paragraph:  # Only process non-empty paragraphs\n",
    "            # Split paragraph into chunks of max 250 words\n",
    "            for j, chunk in enumerate(split_text(paragraph)):\n",
    "                output_writer.writerow([filename_no_ext, f\"{doc_id}_{i}_{j}\", chunk])\n",
    "\n",
    "def process_directory(input_dir, output_file):\n",
    "    with open(output_file, 'w', newline='', encoding='utf-8') as tsv_file:\n",
    "        writer = csv.writer(tsv_file, delimiter='\\t')\n",
    "        \n",
    "        # Write the header\n",
    "        writer.writerow([\"FILE\", \"IDNO\", \"TEXT\"])\n",
    "        \n",
    "        # Process each .txt file in the directory\n",
    "        for i, filename in enumerate(os.listdir(input_dir)):\n",
    "            if filename.endswith('.txt'):\n",
    "                file_path = os.path.join(input_dir, filename)\n",
    "                process_file(file_path, writer, f\"doc_{i}\")\n",
    "\n",
    "# Usage\n",
    "input_directory = './scans/text'\n",
    "output_tsv = 'text_chunks.tsv'\n",
    "process_directory(input_directory, output_tsv)"
   ]
  }
 ],
 "metadata": {
  "kernelspec": {
   "display_name": "Python 3",
   "language": "python",
   "name": "python3"
  },
  "language_info": {
   "codemirror_mode": {
    "name": "ipython",
    "version": 3
   },
   "file_extension": ".py",
   "mimetype": "text/x-python",
   "name": "python",
   "nbconvert_exporter": "python",
   "pygments_lexer": "ipython3",
   "version": "3.11.9"
  }
 },
 "nbformat": 4,
 "nbformat_minor": 2
}
